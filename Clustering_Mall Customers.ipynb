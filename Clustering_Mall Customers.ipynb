{
 "cells": [
  {
   "cell_type": "code",
   "execution_count": 95,
   "metadata": {},
   "outputs": [],
   "source": [
    "import pandas as pd\n",
    "from sklearn.preprocessing import StandardScaler\n",
    "import numpy as np\n",
    "from sklearn.cluster import KMeans\n",
    "from matplotlib import pyplot as plt\n",
    "from kneed import KneeLocator\n",
    "from sklearn.metrics import silhouette_score"
   ]
  },
  {
   "cell_type": "code",
   "execution_count": 64,
   "metadata": {},
   "outputs": [],
   "source": [
    "df = pd.read_csv(r'E:\\Trim V PPTs\\MA\\Mall_Customers.csv')"
   ]
  },
  {
   "cell_type": "code",
   "execution_count": 65,
   "metadata": {},
   "outputs": [
    {
     "data": {
      "text/html": [
       "<div>\n",
       "<style scoped>\n",
       "    .dataframe tbody tr th:only-of-type {\n",
       "        vertical-align: middle;\n",
       "    }\n",
       "\n",
       "    .dataframe tbody tr th {\n",
       "        vertical-align: top;\n",
       "    }\n",
       "\n",
       "    .dataframe thead th {\n",
       "        text-align: right;\n",
       "    }\n",
       "</style>\n",
       "<table border=\"1\" class=\"dataframe\">\n",
       "  <thead>\n",
       "    <tr style=\"text-align: right;\">\n",
       "      <th></th>\n",
       "      <th>CustomerID</th>\n",
       "      <th>Gender</th>\n",
       "      <th>Age</th>\n",
       "      <th>Annual Income (k$)</th>\n",
       "      <th>Spending Score (1-100)</th>\n",
       "    </tr>\n",
       "  </thead>\n",
       "  <tbody>\n",
       "    <tr>\n",
       "      <th>0</th>\n",
       "      <td>1</td>\n",
       "      <td>Male</td>\n",
       "      <td>19</td>\n",
       "      <td>15</td>\n",
       "      <td>39</td>\n",
       "    </tr>\n",
       "    <tr>\n",
       "      <th>1</th>\n",
       "      <td>2</td>\n",
       "      <td>Male</td>\n",
       "      <td>21</td>\n",
       "      <td>15</td>\n",
       "      <td>81</td>\n",
       "    </tr>\n",
       "    <tr>\n",
       "      <th>2</th>\n",
       "      <td>3</td>\n",
       "      <td>Female</td>\n",
       "      <td>20</td>\n",
       "      <td>16</td>\n",
       "      <td>6</td>\n",
       "    </tr>\n",
       "    <tr>\n",
       "      <th>3</th>\n",
       "      <td>4</td>\n",
       "      <td>Female</td>\n",
       "      <td>23</td>\n",
       "      <td>16</td>\n",
       "      <td>77</td>\n",
       "    </tr>\n",
       "    <tr>\n",
       "      <th>4</th>\n",
       "      <td>5</td>\n",
       "      <td>Female</td>\n",
       "      <td>31</td>\n",
       "      <td>17</td>\n",
       "      <td>40</td>\n",
       "    </tr>\n",
       "  </tbody>\n",
       "</table>\n",
       "</div>"
      ],
      "text/plain": [
       "   CustomerID  Gender  Age  Annual Income (k$)  Spending Score (1-100)\n",
       "0           1    Male   19                  15                      39\n",
       "1           2    Male   21                  15                      81\n",
       "2           3  Female   20                  16                       6\n",
       "3           4  Female   23                  16                      77\n",
       "4           5  Female   31                  17                      40"
      ]
     },
     "execution_count": 65,
     "metadata": {},
     "output_type": "execute_result"
    }
   ],
   "source": [
    "df.head()"
   ]
  },
  {
   "cell_type": "code",
   "execution_count": 66,
   "metadata": {},
   "outputs": [
    {
     "data": {
      "text/html": [
       "<div>\n",
       "<style scoped>\n",
       "    .dataframe tbody tr th:only-of-type {\n",
       "        vertical-align: middle;\n",
       "    }\n",
       "\n",
       "    .dataframe tbody tr th {\n",
       "        vertical-align: top;\n",
       "    }\n",
       "\n",
       "    .dataframe thead th {\n",
       "        text-align: right;\n",
       "    }\n",
       "</style>\n",
       "<table border=\"1\" class=\"dataframe\">\n",
       "  <thead>\n",
       "    <tr style=\"text-align: right;\">\n",
       "      <th></th>\n",
       "      <th>CustomerID</th>\n",
       "      <th>Age</th>\n",
       "      <th>Annual Income (k$)</th>\n",
       "      <th>Spending Score (1-100)</th>\n",
       "      <th>Gender_Female</th>\n",
       "      <th>Gender_Male</th>\n",
       "    </tr>\n",
       "  </thead>\n",
       "  <tbody>\n",
       "    <tr>\n",
       "      <th>0</th>\n",
       "      <td>1</td>\n",
       "      <td>19</td>\n",
       "      <td>15</td>\n",
       "      <td>39</td>\n",
       "      <td>0</td>\n",
       "      <td>1</td>\n",
       "    </tr>\n",
       "    <tr>\n",
       "      <th>1</th>\n",
       "      <td>2</td>\n",
       "      <td>21</td>\n",
       "      <td>15</td>\n",
       "      <td>81</td>\n",
       "      <td>0</td>\n",
       "      <td>1</td>\n",
       "    </tr>\n",
       "    <tr>\n",
       "      <th>2</th>\n",
       "      <td>3</td>\n",
       "      <td>20</td>\n",
       "      <td>16</td>\n",
       "      <td>6</td>\n",
       "      <td>1</td>\n",
       "      <td>0</td>\n",
       "    </tr>\n",
       "    <tr>\n",
       "      <th>3</th>\n",
       "      <td>4</td>\n",
       "      <td>23</td>\n",
       "      <td>16</td>\n",
       "      <td>77</td>\n",
       "      <td>1</td>\n",
       "      <td>0</td>\n",
       "    </tr>\n",
       "    <tr>\n",
       "      <th>4</th>\n",
       "      <td>5</td>\n",
       "      <td>31</td>\n",
       "      <td>17</td>\n",
       "      <td>40</td>\n",
       "      <td>1</td>\n",
       "      <td>0</td>\n",
       "    </tr>\n",
       "  </tbody>\n",
       "</table>\n",
       "</div>"
      ],
      "text/plain": [
       "   CustomerID  Age  Annual Income (k$)  Spending Score (1-100)  Gender_Female  \\\n",
       "0           1   19                  15                      39              0   \n",
       "1           2   21                  15                      81              0   \n",
       "2           3   20                  16                       6              1   \n",
       "3           4   23                  16                      77              1   \n",
       "4           5   31                  17                      40              1   \n",
       "\n",
       "   Gender_Male  \n",
       "0            1  \n",
       "1            1  \n",
       "2            0  \n",
       "3            0  \n",
       "4            0  "
      ]
     },
     "execution_count": 66,
     "metadata": {},
     "output_type": "execute_result"
    }
   ],
   "source": [
    "df=pd.get_dummies(df)\n",
    "df.head()"
   ]
  },
  {
   "cell_type": "code",
   "execution_count": 67,
   "metadata": {},
   "outputs": [
    {
     "data": {
      "text/html": [
       "<div>\n",
       "<style scoped>\n",
       "    .dataframe tbody tr th:only-of-type {\n",
       "        vertical-align: middle;\n",
       "    }\n",
       "\n",
       "    .dataframe tbody tr th {\n",
       "        vertical-align: top;\n",
       "    }\n",
       "\n",
       "    .dataframe thead th {\n",
       "        text-align: right;\n",
       "    }\n",
       "</style>\n",
       "<table border=\"1\" class=\"dataframe\">\n",
       "  <thead>\n",
       "    <tr style=\"text-align: right;\">\n",
       "      <th></th>\n",
       "      <th>Annual Income (k$)</th>\n",
       "      <th>Spending Score (1-100)</th>\n",
       "      <th>Gender_Male</th>\n",
       "    </tr>\n",
       "  </thead>\n",
       "  <tbody>\n",
       "    <tr>\n",
       "      <th>0</th>\n",
       "      <td>15</td>\n",
       "      <td>39</td>\n",
       "      <td>1</td>\n",
       "    </tr>\n",
       "    <tr>\n",
       "      <th>1</th>\n",
       "      <td>15</td>\n",
       "      <td>81</td>\n",
       "      <td>1</td>\n",
       "    </tr>\n",
       "    <tr>\n",
       "      <th>2</th>\n",
       "      <td>16</td>\n",
       "      <td>6</td>\n",
       "      <td>0</td>\n",
       "    </tr>\n",
       "    <tr>\n",
       "      <th>3</th>\n",
       "      <td>16</td>\n",
       "      <td>77</td>\n",
       "      <td>0</td>\n",
       "    </tr>\n",
       "    <tr>\n",
       "      <th>4</th>\n",
       "      <td>17</td>\n",
       "      <td>40</td>\n",
       "      <td>0</td>\n",
       "    </tr>\n",
       "    <tr>\n",
       "      <th>...</th>\n",
       "      <td>...</td>\n",
       "      <td>...</td>\n",
       "      <td>...</td>\n",
       "    </tr>\n",
       "    <tr>\n",
       "      <th>195</th>\n",
       "      <td>120</td>\n",
       "      <td>79</td>\n",
       "      <td>0</td>\n",
       "    </tr>\n",
       "    <tr>\n",
       "      <th>196</th>\n",
       "      <td>126</td>\n",
       "      <td>28</td>\n",
       "      <td>0</td>\n",
       "    </tr>\n",
       "    <tr>\n",
       "      <th>197</th>\n",
       "      <td>126</td>\n",
       "      <td>74</td>\n",
       "      <td>1</td>\n",
       "    </tr>\n",
       "    <tr>\n",
       "      <th>198</th>\n",
       "      <td>137</td>\n",
       "      <td>18</td>\n",
       "      <td>1</td>\n",
       "    </tr>\n",
       "    <tr>\n",
       "      <th>199</th>\n",
       "      <td>137</td>\n",
       "      <td>83</td>\n",
       "      <td>1</td>\n",
       "    </tr>\n",
       "  </tbody>\n",
       "</table>\n",
       "<p>200 rows × 3 columns</p>\n",
       "</div>"
      ],
      "text/plain": [
       "     Annual Income (k$)  Spending Score (1-100)  Gender_Male\n",
       "0                    15                      39            1\n",
       "1                    15                      81            1\n",
       "2                    16                       6            0\n",
       "3                    16                      77            0\n",
       "4                    17                      40            0\n",
       "..                  ...                     ...          ...\n",
       "195                 120                      79            0\n",
       "196                 126                      28            0\n",
       "197                 126                      74            1\n",
       "198                 137                      18            1\n",
       "199                 137                      83            1\n",
       "\n",
       "[200 rows x 3 columns]"
      ]
     },
     "execution_count": 67,
     "metadata": {},
     "output_type": "execute_result"
    }
   ],
   "source": [
    "df=df.drop(columns=['CustomerID','Age','Gender_Female'])\n",
    "df"
   ]
  },
  {
   "cell_type": "code",
   "execution_count": 68,
   "metadata": {},
   "outputs": [],
   "source": [
    "df['Annual Income'] = df['Annual Income (k$)']*1000"
   ]
  },
  {
   "cell_type": "code",
   "execution_count": 69,
   "metadata": {},
   "outputs": [
    {
     "data": {
      "text/html": [
       "<div>\n",
       "<style scoped>\n",
       "    .dataframe tbody tr th:only-of-type {\n",
       "        vertical-align: middle;\n",
       "    }\n",
       "\n",
       "    .dataframe tbody tr th {\n",
       "        vertical-align: top;\n",
       "    }\n",
       "\n",
       "    .dataframe thead th {\n",
       "        text-align: right;\n",
       "    }\n",
       "</style>\n",
       "<table border=\"1\" class=\"dataframe\">\n",
       "  <thead>\n",
       "    <tr style=\"text-align: right;\">\n",
       "      <th></th>\n",
       "      <th>Annual Income (k$)</th>\n",
       "      <th>Spending Score (1-100)</th>\n",
       "      <th>Gender_Male</th>\n",
       "      <th>Annual Income</th>\n",
       "    </tr>\n",
       "  </thead>\n",
       "  <tbody>\n",
       "    <tr>\n",
       "      <th>0</th>\n",
       "      <td>15</td>\n",
       "      <td>39</td>\n",
       "      <td>1</td>\n",
       "      <td>15000</td>\n",
       "    </tr>\n",
       "    <tr>\n",
       "      <th>1</th>\n",
       "      <td>15</td>\n",
       "      <td>81</td>\n",
       "      <td>1</td>\n",
       "      <td>15000</td>\n",
       "    </tr>\n",
       "    <tr>\n",
       "      <th>2</th>\n",
       "      <td>16</td>\n",
       "      <td>6</td>\n",
       "      <td>0</td>\n",
       "      <td>16000</td>\n",
       "    </tr>\n",
       "    <tr>\n",
       "      <th>3</th>\n",
       "      <td>16</td>\n",
       "      <td>77</td>\n",
       "      <td>0</td>\n",
       "      <td>16000</td>\n",
       "    </tr>\n",
       "    <tr>\n",
       "      <th>4</th>\n",
       "      <td>17</td>\n",
       "      <td>40</td>\n",
       "      <td>0</td>\n",
       "      <td>17000</td>\n",
       "    </tr>\n",
       "    <tr>\n",
       "      <th>...</th>\n",
       "      <td>...</td>\n",
       "      <td>...</td>\n",
       "      <td>...</td>\n",
       "      <td>...</td>\n",
       "    </tr>\n",
       "    <tr>\n",
       "      <th>195</th>\n",
       "      <td>120</td>\n",
       "      <td>79</td>\n",
       "      <td>0</td>\n",
       "      <td>120000</td>\n",
       "    </tr>\n",
       "    <tr>\n",
       "      <th>196</th>\n",
       "      <td>126</td>\n",
       "      <td>28</td>\n",
       "      <td>0</td>\n",
       "      <td>126000</td>\n",
       "    </tr>\n",
       "    <tr>\n",
       "      <th>197</th>\n",
       "      <td>126</td>\n",
       "      <td>74</td>\n",
       "      <td>1</td>\n",
       "      <td>126000</td>\n",
       "    </tr>\n",
       "    <tr>\n",
       "      <th>198</th>\n",
       "      <td>137</td>\n",
       "      <td>18</td>\n",
       "      <td>1</td>\n",
       "      <td>137000</td>\n",
       "    </tr>\n",
       "    <tr>\n",
       "      <th>199</th>\n",
       "      <td>137</td>\n",
       "      <td>83</td>\n",
       "      <td>1</td>\n",
       "      <td>137000</td>\n",
       "    </tr>\n",
       "  </tbody>\n",
       "</table>\n",
       "<p>200 rows × 4 columns</p>\n",
       "</div>"
      ],
      "text/plain": [
       "     Annual Income (k$)  Spending Score (1-100)  Gender_Male  Annual Income\n",
       "0                    15                      39            1          15000\n",
       "1                    15                      81            1          15000\n",
       "2                    16                       6            0          16000\n",
       "3                    16                      77            0          16000\n",
       "4                    17                      40            0          17000\n",
       "..                  ...                     ...          ...            ...\n",
       "195                 120                      79            0         120000\n",
       "196                 126                      28            0         126000\n",
       "197                 126                      74            1         126000\n",
       "198                 137                      18            1         137000\n",
       "199                 137                      83            1         137000\n",
       "\n",
       "[200 rows x 4 columns]"
      ]
     },
     "execution_count": 69,
     "metadata": {},
     "output_type": "execute_result"
    }
   ],
   "source": [
    "df"
   ]
  },
  {
   "cell_type": "code",
   "execution_count": 70,
   "metadata": {},
   "outputs": [
    {
     "data": {
      "text/html": [
       "<div>\n",
       "<style scoped>\n",
       "    .dataframe tbody tr th:only-of-type {\n",
       "        vertical-align: middle;\n",
       "    }\n",
       "\n",
       "    .dataframe tbody tr th {\n",
       "        vertical-align: top;\n",
       "    }\n",
       "\n",
       "    .dataframe thead th {\n",
       "        text-align: right;\n",
       "    }\n",
       "</style>\n",
       "<table border=\"1\" class=\"dataframe\">\n",
       "  <thead>\n",
       "    <tr style=\"text-align: right;\">\n",
       "      <th></th>\n",
       "      <th>Spending Score (1-100)</th>\n",
       "      <th>Gender_Male</th>\n",
       "      <th>Annual Income</th>\n",
       "    </tr>\n",
       "  </thead>\n",
       "  <tbody>\n",
       "    <tr>\n",
       "      <th>0</th>\n",
       "      <td>39</td>\n",
       "      <td>1</td>\n",
       "      <td>15000</td>\n",
       "    </tr>\n",
       "    <tr>\n",
       "      <th>1</th>\n",
       "      <td>81</td>\n",
       "      <td>1</td>\n",
       "      <td>15000</td>\n",
       "    </tr>\n",
       "    <tr>\n",
       "      <th>2</th>\n",
       "      <td>6</td>\n",
       "      <td>0</td>\n",
       "      <td>16000</td>\n",
       "    </tr>\n",
       "    <tr>\n",
       "      <th>3</th>\n",
       "      <td>77</td>\n",
       "      <td>0</td>\n",
       "      <td>16000</td>\n",
       "    </tr>\n",
       "    <tr>\n",
       "      <th>4</th>\n",
       "      <td>40</td>\n",
       "      <td>0</td>\n",
       "      <td>17000</td>\n",
       "    </tr>\n",
       "    <tr>\n",
       "      <th>...</th>\n",
       "      <td>...</td>\n",
       "      <td>...</td>\n",
       "      <td>...</td>\n",
       "    </tr>\n",
       "    <tr>\n",
       "      <th>195</th>\n",
       "      <td>79</td>\n",
       "      <td>0</td>\n",
       "      <td>120000</td>\n",
       "    </tr>\n",
       "    <tr>\n",
       "      <th>196</th>\n",
       "      <td>28</td>\n",
       "      <td>0</td>\n",
       "      <td>126000</td>\n",
       "    </tr>\n",
       "    <tr>\n",
       "      <th>197</th>\n",
       "      <td>74</td>\n",
       "      <td>1</td>\n",
       "      <td>126000</td>\n",
       "    </tr>\n",
       "    <tr>\n",
       "      <th>198</th>\n",
       "      <td>18</td>\n",
       "      <td>1</td>\n",
       "      <td>137000</td>\n",
       "    </tr>\n",
       "    <tr>\n",
       "      <th>199</th>\n",
       "      <td>83</td>\n",
       "      <td>1</td>\n",
       "      <td>137000</td>\n",
       "    </tr>\n",
       "  </tbody>\n",
       "</table>\n",
       "<p>200 rows × 3 columns</p>\n",
       "</div>"
      ],
      "text/plain": [
       "     Spending Score (1-100)  Gender_Male  Annual Income\n",
       "0                        39            1          15000\n",
       "1                        81            1          15000\n",
       "2                         6            0          16000\n",
       "3                        77            0          16000\n",
       "4                        40            0          17000\n",
       "..                      ...          ...            ...\n",
       "195                      79            0         120000\n",
       "196                      28            0         126000\n",
       "197                      74            1         126000\n",
       "198                      18            1         137000\n",
       "199                      83            1         137000\n",
       "\n",
       "[200 rows x 3 columns]"
      ]
     },
     "execution_count": 70,
     "metadata": {},
     "output_type": "execute_result"
    }
   ],
   "source": [
    "df=df.drop(columns=['Annual Income (k$)'])\n",
    "df"
   ]
  },
  {
   "cell_type": "code",
   "execution_count": 71,
   "metadata": {},
   "outputs": [],
   "source": [
    "scalar = StandardScaler()\n",
    "scaled=scalar.fit_transform(df)"
   ]
  },
  {
   "cell_type": "code",
   "execution_count": 72,
   "metadata": {},
   "outputs": [
    {
     "data": {
      "text/plain": [
       "array([[-0.43480148,  1.12815215, -1.73899919],\n",
       "       [ 1.19570407,  1.12815215, -1.73899919],\n",
       "       [-1.71591298, -0.88640526, -1.70082976],\n",
       "       [ 1.04041783, -0.88640526, -1.70082976],\n",
       "       [-0.39597992, -0.88640526, -1.66266033],\n",
       "       [ 1.00159627, -0.88640526, -1.66266033],\n",
       "       [-1.71591298, -0.88640526, -1.62449091],\n",
       "       [ 1.70038436, -0.88640526, -1.62449091],\n",
       "       [-1.83237767,  1.12815215, -1.58632148],\n",
       "       [ 0.84631002, -0.88640526, -1.58632148],\n",
       "       [-1.4053405 ,  1.12815215, -1.58632148],\n",
       "       [ 1.89449216, -0.88640526, -1.58632148],\n",
       "       [-1.36651894, -0.88640526, -1.54815205],\n",
       "       [ 1.04041783, -0.88640526, -1.54815205],\n",
       "       [-1.44416206,  1.12815215, -1.54815205],\n",
       "       [ 1.11806095,  1.12815215, -1.54815205],\n",
       "       [-0.59008772, -0.88640526, -1.50998262],\n",
       "       [ 0.61338066,  1.12815215, -1.50998262],\n",
       "       [-0.82301709,  1.12815215, -1.43364376],\n",
       "       [ 1.8556706 , -0.88640526, -1.43364376],\n",
       "       [-0.59008772,  1.12815215, -1.39547433],\n",
       "       [ 0.88513158,  1.12815215, -1.39547433],\n",
       "       [-1.75473454, -0.88640526, -1.3573049 ],\n",
       "       [ 0.88513158,  1.12815215, -1.3573049 ],\n",
       "       [-1.4053405 , -0.88640526, -1.24279661],\n",
       "       [ 1.23452563,  1.12815215, -1.24279661],\n",
       "       [-0.7065524 , -0.88640526, -1.24279661],\n",
       "       [ 0.41927286,  1.12815215, -1.24279661],\n",
       "       [-0.74537397, -0.88640526, -1.20462718],\n",
       "       [ 1.42863343, -0.88640526, -1.20462718],\n",
       "       [-1.7935561 ,  1.12815215, -1.16645776],\n",
       "       [ 0.88513158, -0.88640526, -1.16645776],\n",
       "       [-1.7935561 ,  1.12815215, -1.05194947],\n",
       "       [ 1.62274124,  1.12815215, -1.05194947],\n",
       "       [-1.4053405 , -0.88640526, -1.05194947],\n",
       "       [ 1.19570407, -0.88640526, -1.05194947],\n",
       "       [-1.28887582, -0.88640526, -1.01378004],\n",
       "       [ 0.88513158, -0.88640526, -1.01378004],\n",
       "       [-0.93948177, -0.88640526, -0.89927175],\n",
       "       [ 0.96277471, -0.88640526, -0.89927175],\n",
       "       [-0.59008772, -0.88640526, -0.86110232],\n",
       "       [ 1.62274124,  1.12815215, -0.86110232],\n",
       "       [-0.55126616,  1.12815215, -0.82293289],\n",
       "       [ 0.41927286, -0.88640526, -0.82293289],\n",
       "       [-0.86183865, -0.88640526, -0.82293289],\n",
       "       [ 0.5745591 , -0.88640526, -0.82293289],\n",
       "       [ 0.18634349, -0.88640526, -0.78476346],\n",
       "       [-0.12422899, -0.88640526, -0.78476346],\n",
       "       [-0.3183368 , -0.88640526, -0.78476346],\n",
       "       [-0.3183368 , -0.88640526, -0.78476346],\n",
       "       [ 0.06987881, -0.88640526, -0.70842461],\n",
       "       [ 0.38045129,  1.12815215, -0.70842461],\n",
       "       [ 0.14752193, -0.88640526, -0.67025518],\n",
       "       [ 0.38045129,  1.12815215, -0.67025518],\n",
       "       [-0.20187212, -0.88640526, -0.67025518],\n",
       "       [-0.35715836,  1.12815215, -0.67025518],\n",
       "       [-0.00776431, -0.88640526, -0.63208575],\n",
       "       [-0.16305055,  1.12815215, -0.63208575],\n",
       "       [ 0.03105725, -0.88640526, -0.55574689],\n",
       "       [-0.16305055,  1.12815215, -0.55574689],\n",
       "       [ 0.22516505,  1.12815215, -0.55574689],\n",
       "       [ 0.18634349,  1.12815215, -0.55574689],\n",
       "       [ 0.06987881, -0.88640526, -0.51757746],\n",
       "       [ 0.34162973, -0.88640526, -0.51757746],\n",
       "       [ 0.03105725,  1.12815215, -0.47940803],\n",
       "       [ 0.34162973,  1.12815215, -0.47940803],\n",
       "       [-0.00776431, -0.88640526, -0.47940803],\n",
       "       [-0.08540743, -0.88640526, -0.47940803],\n",
       "       [ 0.34162973,  1.12815215, -0.47940803],\n",
       "       [-0.12422899, -0.88640526, -0.47940803],\n",
       "       [ 0.18634349,  1.12815215, -0.4412386 ],\n",
       "       [-0.3183368 , -0.88640526, -0.4412386 ],\n",
       "       [-0.04658587, -0.88640526, -0.40306917],\n",
       "       [ 0.22516505, -0.88640526, -0.40306917],\n",
       "       [-0.12422899,  1.12815215, -0.25039146],\n",
       "       [ 0.14752193,  1.12815215, -0.25039146],\n",
       "       [ 0.10870037, -0.88640526, -0.25039146],\n",
       "       [-0.08540743,  1.12815215, -0.25039146],\n",
       "       [ 0.06987881, -0.88640526, -0.25039146],\n",
       "       [-0.3183368 , -0.88640526, -0.25039146],\n",
       "       [ 0.03105725,  1.12815215, -0.25039146],\n",
       "       [ 0.18634349,  1.12815215, -0.25039146],\n",
       "       [-0.35715836,  1.12815215, -0.25039146],\n",
       "       [-0.24069368, -0.88640526, -0.25039146],\n",
       "       [ 0.26398661, -0.88640526, -0.25039146],\n",
       "       [-0.16305055,  1.12815215, -0.25039146],\n",
       "       [ 0.30280817, -0.88640526, -0.13588317],\n",
       "       [ 0.18634349, -0.88640526, -0.13588317],\n",
       "       [ 0.38045129, -0.88640526, -0.09771374],\n",
       "       [-0.16305055, -0.88640526, -0.09771374],\n",
       "       [ 0.18634349, -0.88640526, -0.05954431],\n",
       "       [-0.35715836,  1.12815215, -0.05954431],\n",
       "       [-0.04658587,  1.12815215, -0.02137488],\n",
       "       [-0.39597992, -0.88640526, -0.02137488],\n",
       "       [-0.3183368 , -0.88640526, -0.02137488],\n",
       "       [ 0.06987881,  1.12815215, -0.02137488],\n",
       "       [-0.12422899, -0.88640526, -0.02137488],\n",
       "       [-0.00776431, -0.88640526, -0.02137488],\n",
       "       [-0.3183368 ,  1.12815215,  0.01679455],\n",
       "       [-0.04658587,  1.12815215,  0.01679455],\n",
       "       [-0.35715836, -0.88640526,  0.05496398],\n",
       "       [-0.08540743, -0.88640526,  0.05496398],\n",
       "       [ 0.34162973,  1.12815215,  0.05496398],\n",
       "       [ 0.18634349,  1.12815215,  0.05496398],\n",
       "       [ 0.22516505,  1.12815215,  0.05496398],\n",
       "       [-0.3183368 , -0.88640526,  0.05496398],\n",
       "       [-0.00776431, -0.88640526,  0.09313341],\n",
       "       [-0.16305055,  1.12815215,  0.09313341],\n",
       "       [-0.27951524,  1.12815215,  0.09313341],\n",
       "       [-0.08540743,  1.12815215,  0.09313341],\n",
       "       [ 0.06987881,  1.12815215,  0.09313341],\n",
       "       [ 0.14752193, -0.88640526,  0.09313341],\n",
       "       [-0.3183368 , -0.88640526,  0.13130284],\n",
       "       [-0.16305055,  1.12815215,  0.13130284],\n",
       "       [-0.08540743, -0.88640526,  0.16947227],\n",
       "       [-0.00776431, -0.88640526,  0.16947227],\n",
       "       [-0.27951524, -0.88640526,  0.16947227],\n",
       "       [ 0.34162973, -0.88640526,  0.16947227],\n",
       "       [-0.27951524, -0.88640526,  0.24581112],\n",
       "       [ 0.26398661, -0.88640526,  0.24581112],\n",
       "       [ 0.22516505,  1.12815215,  0.24581112],\n",
       "       [-0.39597992, -0.88640526,  0.24581112],\n",
       "       [ 0.30280817, -0.88640526,  0.32214998],\n",
       "       [ 1.58391968,  1.12815215,  0.32214998],\n",
       "       [-0.82301709, -0.88640526,  0.36031941],\n",
       "       [ 1.04041783, -0.88640526,  0.36031941],\n",
       "       [-0.59008772,  1.12815215,  0.39848884],\n",
       "       [ 1.73920592,  1.12815215,  0.39848884],\n",
       "       [-1.52180518,  1.12815215,  0.39848884],\n",
       "       [ 0.96277471,  1.12815215,  0.39848884],\n",
       "       [-1.5994483 ,  1.12815215,  0.39848884],\n",
       "       [ 0.96277471,  1.12815215,  0.39848884],\n",
       "       [-0.62890928, -0.88640526,  0.43665827],\n",
       "       [ 0.80748846, -0.88640526,  0.43665827],\n",
       "       [-1.75473454,  1.12815215,  0.4748277 ],\n",
       "       [ 1.46745499, -0.88640526,  0.4748277 ],\n",
       "       [-1.67709142, -0.88640526,  0.4748277 ],\n",
       "       [ 0.88513158,  1.12815215,  0.4748277 ],\n",
       "       [-1.56062674,  1.12815215,  0.51299713],\n",
       "       [ 0.84631002, -0.88640526,  0.51299713],\n",
       "       [-1.75473454, -0.88640526,  0.55116656],\n",
       "       [ 1.6615628 ,  1.12815215,  0.55116656],\n",
       "       [-0.39597992, -0.88640526,  0.58933599],\n",
       "       [ 1.42863343, -0.88640526,  0.58933599],\n",
       "       [-1.48298362,  1.12815215,  0.62750542],\n",
       "       [ 1.81684904,  1.12815215,  0.62750542],\n",
       "       [-0.55126616,  1.12815215,  0.62750542],\n",
       "       [ 0.92395314, -0.88640526,  0.62750542],\n",
       "       [-1.09476801, -0.88640526,  0.66567484],\n",
       "       [ 1.54509812,  1.12815215,  0.66567484],\n",
       "       [-1.28887582,  1.12815215,  0.66567484],\n",
       "       [ 1.46745499,  1.12815215,  0.66567484],\n",
       "       [-1.17241113, -0.88640526,  0.66567484],\n",
       "       [ 1.00159627, -0.88640526,  0.66567484],\n",
       "       [-1.32769738, -0.88640526,  0.66567484],\n",
       "       [ 1.50627656, -0.88640526,  0.66567484],\n",
       "       [-1.91002079,  1.12815215,  0.66567484],\n",
       "       [ 1.07923939, -0.88640526,  0.66567484],\n",
       "       [-1.91002079,  1.12815215,  0.66567484],\n",
       "       [ 0.88513158, -0.88640526,  0.66567484],\n",
       "       [-0.59008772, -0.88640526,  0.70384427],\n",
       "       [ 1.27334719, -0.88640526,  0.70384427],\n",
       "       [-1.75473454,  1.12815215,  0.78018313],\n",
       "       [ 1.6615628 , -0.88640526,  0.78018313],\n",
       "       [-0.93948177,  1.12815215,  0.93286085],\n",
       "       [ 0.96277471, -0.88640526,  0.93286085],\n",
       "       [-1.17241113,  1.12815215,  0.97103028],\n",
       "       [ 1.73920592, -0.88640526,  0.97103028],\n",
       "       [-0.90066021, -0.88640526,  1.00919971],\n",
       "       [ 0.49691598,  1.12815215,  1.00919971],\n",
       "       [-1.44416206,  1.12815215,  1.00919971],\n",
       "       [ 0.96277471,  1.12815215,  1.00919971],\n",
       "       [-1.56062674,  1.12815215,  1.00919971],\n",
       "       [ 1.62274124,  1.12815215,  1.00919971],\n",
       "       [-1.44416206, -0.88640526,  1.04736914],\n",
       "       [ 1.38981187, -0.88640526,  1.04736914],\n",
       "       [-1.36651894,  1.12815215,  1.04736914],\n",
       "       [ 0.72984534,  1.12815215,  1.04736914],\n",
       "       [-1.4053405 ,  1.12815215,  1.23821628],\n",
       "       [ 1.54509812,  1.12815215,  1.23821628],\n",
       "       [-0.7065524 , -0.88640526,  1.390894  ],\n",
       "       [ 1.38981187, -0.88640526,  1.390894  ],\n",
       "       [-1.36651894,  1.12815215,  1.42906343],\n",
       "       [ 1.46745499, -0.88640526,  1.42906343],\n",
       "       [-0.43480148, -0.88640526,  1.46723286],\n",
       "       [ 1.81684904,  1.12815215,  1.46723286],\n",
       "       [-1.01712489, -0.88640526,  1.54357172],\n",
       "       [ 0.69102378,  1.12815215,  1.54357172],\n",
       "       [-1.28887582, -0.88640526,  1.61991057],\n",
       "       [ 1.35099031, -0.88640526,  1.61991057],\n",
       "       [-1.05594645, -0.88640526,  1.61991057],\n",
       "       [ 0.72984534, -0.88640526,  1.61991057],\n",
       "       [-1.63826986,  1.12815215,  2.00160487],\n",
       "       [ 1.58391968, -0.88640526,  2.00160487],\n",
       "       [-1.32769738, -0.88640526,  2.26879087],\n",
       "       [ 1.11806095, -0.88640526,  2.26879087],\n",
       "       [-0.86183865, -0.88640526,  2.49780745],\n",
       "       [ 0.92395314,  1.12815215,  2.49780745],\n",
       "       [-1.25005425,  1.12815215,  2.91767117],\n",
       "       [ 1.27334719,  1.12815215,  2.91767117]])"
      ]
     },
     "execution_count": 72,
     "metadata": {},
     "output_type": "execute_result"
    }
   ],
   "source": [
    "scaled"
   ]
  },
  {
   "cell_type": "code",
   "execution_count": 89,
   "metadata": {},
   "outputs": [],
   "source": [
    "kmeans = KMeans(init=\"random\", n_clusters=,7 n_init=20, max_iter=300, random_state=42)"
   ]
  },
  {
   "cell_type": "code",
   "execution_count": 90,
   "metadata": {},
   "outputs": [
    {
     "data": {
      "text/plain": [
       "KMeans(algorithm='auto', copy_x=True, init='random', max_iter=300, n_clusters=7,\n",
       "       n_init=20, n_jobs=None, precompute_distances='auto', random_state=42,\n",
       "       tol=0.0001, verbose=0)"
      ]
     },
     "execution_count": 90,
     "metadata": {},
     "output_type": "execute_result"
    }
   ],
   "source": [
    "kmeans.fit(scaled)"
   ]
  },
  {
   "cell_type": "code",
   "execution_count": 91,
   "metadata": {},
   "outputs": [
    {
     "data": {
      "text/plain": [
       "125.58535025038731"
      ]
     },
     "execution_count": 91,
     "metadata": {},
     "output_type": "execute_result"
    }
   ],
   "source": [
    "# The lowest SSE value\n",
    "kmeans.inertia_"
   ]
  },
  {
   "cell_type": "code",
   "execution_count": 92,
   "metadata": {},
   "outputs": [
    {
     "data": {
      "text/plain": [
       "array([[-1.40339942,  1.12815215,  0.93858626],\n",
       "       [-0.00776431,  1.12815215, -0.6282688 ],\n",
       "       [-0.27822119, -0.88640526, -0.47177414],\n",
       "       [-1.02790866, -0.88640526,  1.08765909],\n",
       "       [ 1.26040667,  1.12815215,  1.01344075],\n",
       "       [ 1.22158511, -0.88640526,  0.97284787],\n",
       "       [ 1.17778643, -0.88640526, -1.33087991]])"
      ]
     },
     "execution_count": 92,
     "metadata": {},
     "output_type": "execute_result"
    }
   ],
   "source": [
    "# Final locations of the centroid\n",
    "kmeans.cluster_centers_"
   ]
  },
  {
   "cell_type": "code",
   "execution_count": 93,
   "metadata": {},
   "outputs": [
    {
     "data": {
      "text/plain": [
       "13"
      ]
     },
     "execution_count": 93,
     "metadata": {},
     "output_type": "execute_result"
    }
   ],
   "source": [
    "# The number of iterations required to converge\n",
    "kmeans.n_iter_"
   ]
  },
  {
   "cell_type": "code",
   "execution_count": 94,
   "metadata": {},
   "outputs": [
    {
     "data": {
      "text/plain": [
       "array([1, 1, 2, 6, 2, 6, 2, 6, 1, 6, 1, 6, 2, 6, 1, 1, 2, 1, 1, 6, 1, 1,\n",
       "       2, 1, 2, 1, 2, 1, 2, 6, 1, 6, 1, 1, 2, 6, 2, 6, 2, 6, 2, 1, 1, 2,\n",
       "       2, 6, 2, 2, 2, 2, 2, 1, 2, 1, 2, 1, 2, 1, 2, 1, 1, 1, 2, 2, 1, 1,\n",
       "       2, 2, 1, 2, 1, 2, 2, 2, 1, 1, 2, 1, 2, 2, 1, 1, 1, 2, 2, 1, 2, 2,\n",
       "       2, 2, 2, 1, 1, 2, 2, 1, 2, 2, 1, 1, 2, 2, 1, 1, 1, 2, 2, 1, 1, 1,\n",
       "       1, 2, 2, 1, 2, 2, 2, 2, 2, 2, 1, 2, 2, 4, 3, 5, 0, 4, 0, 4, 0, 4,\n",
       "       3, 5, 0, 5, 3, 4, 0, 5, 3, 4, 3, 5, 0, 4, 0, 5, 3, 4, 0, 4, 3, 5,\n",
       "       3, 5, 0, 5, 0, 5, 3, 5, 0, 5, 0, 5, 0, 5, 3, 4, 0, 4, 0, 4, 3, 5,\n",
       "       0, 4, 0, 4, 3, 5, 0, 5, 3, 4, 3, 4, 3, 5, 3, 5, 0, 5, 3, 5, 3, 4,\n",
       "       0, 4])"
      ]
     },
     "execution_count": 94,
     "metadata": {},
     "output_type": "execute_result"
    }
   ],
   "source": [
    "kmeans.labels_"
   ]
  },
  {
   "cell_type": "code",
   "execution_count": 96,
   "metadata": {},
   "outputs": [],
   "source": [
    "kmeans_kwargs = {\"init\": \"random\",\"n_init\": 20,\"max_iter\": 300,\"random_state\": 42,}"
   ]
  },
  {
   "cell_type": "code",
   "execution_count": 99,
   "metadata": {},
   "outputs": [],
   "source": [
    "# A list holds the SSE values for each k\n",
    "sse = []\n",
    "for k in range(1, 11):\n",
    "    kmeans = KMeans(n_clusters=k, **kmeans_kwargs)\n",
    "    kmeans.fit(scaled)\n",
    "    sse.append(kmeans.inertia_)"
   ]
  },
  {
   "cell_type": "code",
   "execution_count": 100,
   "metadata": {},
   "outputs": [
    {
     "data": {
      "image/png": "[encoded data removed]",
      "text/plain": [
       "<Figure size 432x288 with 1 Axes>"
      ]
     },
     "metadata": {},
     "output_type": "display_data"
    }
   ],
   "source": [
    "plt.style.use(\"fivethirtyeight\")\n",
    "plt.plot(range(1, 11), sse)\n",
    "plt.xticks(range(1, 11))\n",
    "plt.xlabel(\"Number of Clusters\")\n",
    "plt.ylabel(\"SSE\")\n",
    "plt.show()"
   ]
  },
  {
   "cell_type": "code",
   "execution_count": 101,
   "metadata": {},
   "outputs": [],
   "source": [
    "kl = KneeLocator(range(1, 11), sse, curve=\"convex\", direction=\"decreasing\")"
   ]
  },
  {
   "cell_type": "code",
   "execution_count": 102,
   "metadata": {},
   "outputs": [
    {
     "data": {
      "text/plain": [
       "4"
      ]
     },
     "execution_count": 102,
     "metadata": {},
     "output_type": "execute_result"
    }
   ],
   "source": [
    "kl.elbow"
   ]
  },
  {
   "cell_type": "code",
   "execution_count": 103,
   "metadata": {},
   "outputs": [],
   "source": [
    "# A list holds the silhouette coefficients for each k\n",
    "silhouette_coefficients = []\n",
    "\n",
    "# Notice you start at 2 clusters for silhouette coefficient\n",
    "for k in range(2, 11):\n",
    "    kmeans = KMeans(n_clusters=k, **kmeans_kwargs)\n",
    "    kmeans.fit(scaled)\n",
    "    score = silhouette_score(scaled, kmeans.labels_)\n",
    "    silhouette_coefficients.append(score)"
   ]
  },
  {
   "cell_type": "code",
   "execution_count": 104,
   "metadata": {},
   "outputs": [
    {
     "data": {
      "image/png": "[encoded data removed]",
      "text/plain": [
       "<Figure size 432x288 with 1 Axes>"
      ]
     },
     "metadata": {},
     "output_type": "display_data"
    }
   ],
   "source": [
    "plt.style.use(\"fivethirtyeight\")\n",
    "plt.plot(range(2, 11), silhouette_coefficients)\n",
    "plt.xticks(range(2, 11))\n",
    "plt.xlabel(\"Number of Clusters\")\n",
    "plt.ylabel(\"Silhouette Coefficient\")\n",
    "plt.show()"
   ]
  },
  {
   "cell_type": "code",
   "execution_count": null,
   "metadata": {},
   "outputs": [],
   "source": []
  }
 ],
 "metadata": {
  "kernelspec": {
   "display_name": "Python 3",
   "language": "python",
   "name": "python3"
  },
  "language_info": {
   "codemirror_mode": {
    "name": "ipython",
    "version": 3
   },
   "file_extension": ".py",
   "mimetype": "text/x-python",
   "name": "python",
   "nbconvert_exporter": "python",
   "pygments_lexer": "ipython3",
   "version": "3.7.4"
  }
 },
 "nbformat": 4,
 "nbformat_minor": 2
}
